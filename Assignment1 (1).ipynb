{
 "cells": [
  {
   "cell_type": "markdown",
   "id": "4cff7b82-bf68-4e29-a707-0e9978695f42",
   "metadata": {},
   "source": [
    "1.Convert an integer to a floating point number."
   ]
  },
  {
   "cell_type": "code",
   "execution_count": 2,
   "id": "47451f11-695c-4ffa-b58b-7054e00d258f",
   "metadata": {},
   "outputs": [
    {
     "name": "stdout",
     "output_type": "stream",
     "text": [
      "8.0\n"
     ]
    }
   ],
   "source": [
    "a=8\n",
    "b=float(a)\n",
    "print(b)"
   ]
  },
  {
   "cell_type": "markdown",
   "id": "196637a2-cf95-4be5-9786-096d74d5d5a9",
   "metadata": {},
   "source": [
    "2.Convert a float to an integer."
   ]
  },
  {
   "cell_type": "code",
   "execution_count": 3,
   "id": "efaba7fc-f66b-46c3-b8e6-5ad0274421de",
   "metadata": {},
   "outputs": [
    {
     "name": "stdout",
     "output_type": "stream",
     "text": [
      "78\n"
     ]
    }
   ],
   "source": [
    "a=78.2\n",
    "b=int(a)\n",
    "print(b)"
   ]
  },
  {
   "cell_type": "markdown",
   "id": "4a21d73d-237c-4cc6-9fb4-6adeb15394c6",
   "metadata": {},
   "source": [
    "3.Convert an integer to a string"
   ]
  },
  {
   "cell_type": "code",
   "execution_count": 4,
   "id": "f80d0ada-127d-46f0-892c-572d2d4cbc1f",
   "metadata": {},
   "outputs": [
    {
     "name": "stdout",
     "output_type": "stream",
     "text": [
      "8\n"
     ]
    }
   ],
   "source": [
    "a=8\n",
    "b=str(a)\n",
    "print(b)"
   ]
  },
  {
   "cell_type": "markdown",
   "id": "add035e3-c268-4dcb-b013-7f70baf931ca",
   "metadata": {},
   "source": [
    "4.Convert a list to tuple"
   ]
  },
  {
   "cell_type": "markdown",
   "id": "e996eade-aa75-46a8-bca5-e069b5a0bae7",
   "metadata": {},
   "source": [
    "my_list=[\"a\",2,3]\n",
    "my_tuple=tuple(my_list)\n",
    "print(my_tuple)\n",
    "type(my_tuple)"
   ]
  },
  {
   "cell_type": "markdown",
   "id": "d1c35ba0-ad33-4c14-9e19-dc23ece87886",
   "metadata": {},
   "source": [
    "5.convert a tuple to list"
   ]
  },
  {
   "cell_type": "code",
   "execution_count": 4,
   "id": "a3439011-9ec4-4795-b980-a71920a4d4cf",
   "metadata": {},
   "outputs": [
    {
     "name": "stdout",
     "output_type": "stream",
     "text": [
      "['aniket', 'bhavesh', 1, 2]\n"
     ]
    },
    {
     "data": {
      "text/plain": [
       "list"
      ]
     },
     "execution_count": 4,
     "metadata": {},
     "output_type": "execute_result"
    }
   ],
   "source": [
    "my_tuple=(\"aniket\",\"bhavesh\",1,2)\n",
    "my_list=list(my_tuple)\n",
    "print(my_list)\n",
    "type(my_list)"
   ]
  },
  {
   "cell_type": "markdown",
   "id": "b8af52a7-6821-42bc-8945-83bcbe64bb55",
   "metadata": {},
   "source": [
    "6.convert decimal number to binary"
   ]
  },
  {
   "cell_type": "code",
   "execution_count": 23,
   "id": "bcd1747a-3129-48f0-bd44-a578e429c469",
   "metadata": {},
   "outputs": [
    {
     "name": "stdout",
     "output_type": "stream",
     "text": [
      "0b1010\n"
     ]
    }
   ],
   "source": [
    "a=int(10.0)\n",
    "b=bin(a)\n",
    "print(b)"
   ]
  },
  {
   "cell_type": "markdown",
   "id": "b4e2bfe3-8f55-47a1-80ec-e75209b89358",
   "metadata": {},
   "source": [
    "7.convert a non-zero number to boolean"
   ]
  },
  {
   "cell_type": "code",
   "execution_count": 13,
   "id": "8d4a2dea-184b-4dc0-b71a-76208a31a061",
   "metadata": {},
   "outputs": [
    {
     "name": "stdout",
     "output_type": "stream",
     "text": [
      "True\n"
     ]
    },
    {
     "data": {
      "text/plain": [
       "bool"
      ]
     },
     "execution_count": 13,
     "metadata": {},
     "output_type": "execute_result"
    }
   ],
   "source": [
    "a=3\n",
    "b=bool(a)\n",
    "print(b)\n",
    "type(b)"
   ]
  },
  {
   "cell_type": "code",
   "execution_count": null,
   "id": "7e3d7338-fbc4-4a6e-ad88-195801346ba4",
   "metadata": {},
   "outputs": [],
   "source": []
  }
 ],
 "metadata": {
  "kernelspec": {
   "display_name": "Python 3 (ipykernel)",
   "language": "python",
   "name": "python3"
  },
  "language_info": {
   "codemirror_mode": {
    "name": "ipython",
    "version": 3
   },
   "file_extension": ".py",
   "mimetype": "text/x-python",
   "name": "python",
   "nbconvert_exporter": "python",
   "pygments_lexer": "ipython3",
   "version": "3.10.8"
  }
 },
 "nbformat": 4,
 "nbformat_minor": 5
}
